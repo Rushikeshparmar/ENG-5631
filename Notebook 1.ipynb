{
 "cells": [
  {
   "cell_type": "markdown",
   "metadata": {},
   "source": [
    "Introduction\n",
    "--------------"
   ]
  },
  {
   "cell_type": "markdown",
   "metadata": {},
   "source": [
    "Hello, I have been admitted in Lakehead University in 2017.I am so **excited** because this is my 1st Python program in Jupyter notebook!"
   ]
  },
  {
   "cell_type": "code",
   "execution_count": 3,
   "metadata": {},
   "outputs": [
    {
     "name": "stdout",
     "output_type": "stream",
     "text": [
      "\n",
      " Hey my name is Rushikesh Ambalal Parmar.It is the introduction to Python.Python is widely used as high-level programming language for general-purpose programming.\n"
     ]
    }
   ],
   "source": [
    "txt='It is the introduction to Python.'\n",
    "txt1='Python is widely used as high-level programming language for general-purpose programming.'\n",
    "txt2='It features a dynamic type system and automatic memory management'\n",
    "print('\\n Hey my name is Rushikesh Ambalal Parmar.' +txt+txt1)\n"
   ]
  },
  {
   "cell_type": "markdown",
   "metadata": {},
   "source": [
    "It is so auspicious that i have guide as lecturer Ms.L.Curiel to make me comprehend Pythonn programs. Python was created by Guido van Rossum during 1985-1990.Python is a scripting language like PHP, Perl, Ruby and so much more. It can be used for web programming.It can be used as a scripting language or can be compiled to byte-code for building large applications. It is designed to be highly readable. It uses English keywords frequently where as other languages use punctuation, and it has fewer syntactical constructions than other languages."
   ]
  }
 ],
 "metadata": {
  "kernelspec": {
   "display_name": "Python 2",
   "language": "python",
   "name": "python2"
  },
  "language_info": {
   "codemirror_mode": {
    "name": "ipython",
    "version": 2
   },
   "file_extension": ".py",
   "mimetype": "text/x-python",
   "name": "python",
   "nbconvert_exporter": "python",
   "pygments_lexer": "ipython2",
   "version": "2.7.13"
  }
 },
 "nbformat": 4,
 "nbformat_minor": 2
}
